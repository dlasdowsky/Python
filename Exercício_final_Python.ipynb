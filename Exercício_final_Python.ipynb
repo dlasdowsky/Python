{
  "nbformat": 4,
  "nbformat_minor": 0,
  "metadata": {
    "colab": {
      "provenance": [],
      "include_colab_link": true
    },
    "kernelspec": {
      "name": "python3",
      "display_name": "Python 3"
    },
    "language_info": {
      "name": "python"
    }
  },
  "cells": [
    {
      "cell_type": "markdown",
      "metadata": {
        "id": "view-in-github",
        "colab_type": "text"
      },
      "source": [
        "<a href=\"https://colab.research.google.com/github/dlasdowsky/Python/blob/main/Exerc%C3%ADcio_final_Python.ipynb\" target=\"_parent\"><img src=\"https://colab.research.google.com/assets/colab-badge.svg\" alt=\"Open In Colab\"/></a>"
      ]
    },
    {
      "cell_type": "markdown",
      "source": [
        "# Exercício avaliativo de Python Basic\n"
      ],
      "metadata": {
        "id": "Ze14NIEmY-D2"
      }
    },
    {
      "cell_type": "code",
      "source": [
        "!pip install ping3"
      ],
      "metadata": {
        "id": "CvYlJiy3zagD"
      },
      "execution_count": null,
      "outputs": []
    },
    {
      "cell_type": "markdown",
      "source": [
        "1. Crie uma classe enviarMensagens que tenha como variável padrão para inicialização a mensagem (Deve estar no __init__)\n",
        "\n",
        "\n",
        "*   a classe deve ter um método enviar email com parâmetros email e titulo e estes serão usados na biblioteca de envio de email\n",
        "*   Use a biblioteca smtplib\n",
        "\n",
        "\n",
        "\n"
      ],
      "metadata": {
        "id": "j0-c_ZEeZinL"
      }
    },
    {
      "cell_type": "code",
      "source": [
        "#Criar aqui a classe\n",
        "import smtplib\n",
        "from email.mime.text import MIMEText\n",
        "from email.mime.multipart import MIMEMultipart\n",
        "\n",
        "class enviarMensagens:\n",
        "  def __init__ (self, hostSMTP, port, myemail, password = None):\n",
        "    self.hostSMTP = hostSMTP\n",
        "    self.port = port\n",
        "    self.myemail = myemail\n",
        "    self.password = password\n",
        "    self.smtp = smtplib.SMTP(host=hostSMTP, port = port)\n",
        "    self.smtp.starttls()\n",
        "\n",
        "    if password != None and password != \"\":\n",
        "      self.smtp.login(myemail,password)\n",
        "\n",
        "  def enviarEmail(Self, to, subject, body_message):\n",
        "    try:\n",
        "      message = MIMEMultipart(\"alternative\")\n",
        "      message[\"Subject\"] = subject\n",
        "      message[\"From\"]= self.myemail\n",
        "      message.attash(MIMEText(body_message, \"plain\"))\n",
        "      self.smtp.sendmail(message[\"From\"], message[\"To\"],message.as_string())\n",
        "\n",
        "      print(\"Email enviado com sucesso\")\n",
        "    except Exception as ex:\n",
        "      print(\"Error: \", ex)\n",
        "\n",
        "e = enviarMensagens(\"smtp.gmail.com\", \"25\", \"dlasdowsky@gmail.com\")\n",
        "e.enviarEmail(\"danieladdpaula@gail.com\", \"teste titulo\",\"teste msg\")"
      ],
      "metadata": {
        "id": "fZaATqA9aUax",
        "colab": {
          "base_uri": "https://localhost:8080/"
        },
        "outputId": "10d142c1-ec8c-4810-fba5-4762097db4bb"
      },
      "execution_count": 10,
      "outputs": [
        {
          "output_type": "stream",
          "name": "stdout",
          "text": [
            "Error:  name 'self' is not defined\n"
          ]
        }
      ]
    },
    {
      "cell_type": "markdown",
      "source": [
        "2. Crie uma classe com os seguintes métodos:\n",
        " \n",
        "\n",
        "*   verificar_servidor (Use o socket) como parâmetro, o método usa o ip/dominio e a porta, deve salvar em um arquivo csv dia e hora e o resultado ( se conseguiu ou não), por fim, deve enviar email caso tenha dado errado.\n",
        "*   verificar_portas (Use o nmap) como parâmetro, insira o dominio para teste e o resultado deve ser salvo em um arquivo csv para analises\n",
        "*   realizar_ping (use uma lib de ping de sua preferência) como parâmetro entre o ip/domínio e salve o resultado em um arquivo csv, caso tenha erro no ping, envie email informando o erro, o dia e hora do ocorrido.\n",
        "\n",
        "\n",
        "---\n",
        "\n",
        "\n",
        "**ps.: os dados não podem ser apagados e sim inseridos ao final do arquivo**\n",
        "\n",
        "\n",
        "\n"
      ],
      "metadata": {
        "id": "1T3VR1czZMOn"
      }
    },
    {
      "cell_type": "code",
      "source": [
        "# Criar aqui a classe\n",
        "\n",
        "from socket import *\n",
        "from ping3 import ping, verbose_ping\n",
        "import time\n",
        "import pandas as pd\n",
        "\n",
        "class Servidor:\n",
        "  qtd = 0\n",
        "  def __init__(self, nome, ip):\n",
        "    self.nome_servidor = nome\n",
        "    self.ip_servidor = ip\n",
        "    Servidor.qtd +=1\n",
        "  def get_ip(self):\n",
        "    return self.ip_servidor\n",
        "  def realizar_ping(self):\n",
        "    return ping(self.ip_servidor)\n",
        "  @staticmethod\n",
        "  def quantidade_servidores():\n",
        "    return Servidor.qtd\n",
        "import csv\n",
        "import smtplib\n",
        "import socket\n",
        "import subprocess\n",
        "from datetime import datetime\n",
        "from email.mime.text import MIMEText\n",
        "from email.mime.multipart import MIMEMultipart\n",
        "\n",
        "class VerificadorDeServidor:\n",
        "    \n",
        "    def __init__(self, email_rem, email_dest):\n",
        "        self.email_rem = email_rem\n",
        "        self.email_dest = email_dest\n",
        "    \n",
        "    def verificar_servidor(self, host, port):\n",
        "        # Verifica se o servidor está respondendo na porta especificada\n",
        "        try:\n",
        "            socket.setdefaulttimeout(1)\n",
        "            s = socket.socket(socket.AF_INET, socket.SOCK_STREAM)\n",
        "            s.connect((host, port))\n",
        "            s.shutdown(socket.SHUT_RDWR)\n",
        "            return True\n",
        "        except:\n",
        "            return False\n",
        "        finally:\n",
        "            s.close()\n",
        "    \n",
        "    def verificar_portas(self, host):\n",
        "        # Verifica as portas abertas no servidor utilizando o nmap\n",
        "        resultado = subprocess.run([\"nmap\", \"-F\", host], capture_output=True, text=True)\n",
        "        linhas = resultado.stdout.strip().split('\\n')\n",
        "        portas = []\n",
        "        for linha in linhas:\n",
        "            if \"/tcp\" in linha:\n",
        "                partes = linha.strip().split()\n",
        "                porta = partes[0].split('/')[0]\n",
        "                estado = partes[1]\n",
        "                portas.append((porta, estado))\n",
        "        return portas\n",
        "    \n",
        "    def realizar_ping(self, host):\n",
        "        # Realiza o ping para o host\n",
        "        resultado = subprocess.run([\"ping\", \"-c\", \"1\", host], capture_output=True, text=True)\n",
        "        linhas = resultado.stdout.strip().split('\\n')\n",
        "        for linha in linhas:\n",
        "            if \"packet loss\" in linha:\n",
        "                partes = linha.strip().split(',')\n",
        "                perda = partes[2].strip().split()[0]\n",
        "                return perda\n",
        "        return \"Desconhecido\"\n",
        "    \n",
        "    def salvar_resultado(self, nome_arquivo, dados):\n",
        "        # Salva os dados em um arquivo CSV\n",
        "        with open(nome_arquivo, mode='a', newline='') as arquivo:\n",
        "            writer = csv.writer(arquivo)\n",
        "            writer.writerow(dados)\n",
        "    \n",
        "    def enviar_email(self, assunto, corpo):\n",
        "        # Envia um email informando um problema com o servidor\n",
        "        mensagem = MIMEMultipart()\n",
        "        mensagem['From'] = self.email_rem\n",
        "        mensagem['To'] = self.email_dest\n",
        "        mensagem['Subject'] = assunto\n",
        "        mensagem.attach(MIMEText(corpo))\n",
        "        with smtplib.SMTP('localhost') as smtp:\n",
        "            smtp.send_message(mensagem)\n",
        "    \n",
        "    def verificar_e_salvar_servidor(self, host, port, nome_arquivo):\n",
        "        # Verifica o servidor e salva o resultado no arquivo CSV\n",
        "        resultado = self.verificar_servidor(host, port)\n",
        "        agora = datetime.now().strftime(\"%d/%m/%Y %H:%M:%S\")\n",
        "        self.salvar_resultado(nome_arquivo, [agora, resultado])\n",
        "        if not resultado:\n",
        "            assunto = f\"Problema no servidor {host}:{port}\"\n",
        "            corpo = f\"O servidor {host}:{port} não está respondendo.\"\n",
        "            self.enviar_email(assunto, corpo)\n",
        "    \n",
        "    def verificar_e_salvar_portas(self, host, nome_arquivo):\n",
        "        # Verifica as portas do servidor e salva o resultado no arquivo CSV\n",
        "        portas = self.verificar_portas(host)\n",
        "        agora = datetime.now().strftime(\"%d/%m/%Y %H:%M:%S\")\n",
        "        for porta, estado in portas:\n",
        "            self.salvar_resultado(nome_arquivo, [agora, porta,\n",
        "\n",
        "import csv\n",
        "import smtplib\n",
        "import socket\n",
        "import subprocess\n",
        "from datetime import datetime\n",
        "from email.mime.text import MIMEText\n",
        "from email.mime.multipart import MIMEMultipart\n",
        "\n",
        "class Servidor:\n",
        "    def __init__(self, email_from, email_to, email_password):\n",
        "        self.email_from = email_from\n",
        "        self.email_to = email_to\n",
        "        self.email_password = email_password\n",
        "\n",
        "    def verificar_servidor(self, host, port):\n",
        "        try:\n",
        "            with socket.socket(socket.AF_INET, socket.SOCK_STREAM) as s:\n",
        "                s.settimeout(5)\n",
        "                s.connect((host, port))\n",
        "            self._log_result(\"verificar_servidor\", True)\n",
        "        except (socket.timeout, ConnectionRefusedError):\n",
        "            self._log_result(\"verificar_servidor\", False)\n",
        "            self._send_email(\"Falha na verificação do servidor\", f\"Não foi possível conectar no host {host}:{port}\")\n",
        "\n",
        "    def verificar_portas(self, host):\n",
        "        try:\n",
        "            output = subprocess.check_output([\"nmap\", \"-F\", host])\n",
        "            output_str = output.decode(\"utf-8\")\n",
        "            open_ports = [line.split(\"/\")[0] for line in output_str.split(\"\\n\") if \"/tcp\" in line and \"open\" in line]\n",
        "            self._log_result(\"verificar_portas\", open_ports)\n",
        "        except subprocess.CalledProcessError:\n",
        "            self._log_result(\"verificar_portas\", [])\n",
        "            self._send_email(\"Falha na verificação de portas\", f\"Não foi possível verificar as portas do host {host}\")\n",
        "\n",
        "    def realizar_ping(self, host):\n",
        "        try:\n",
        "            output = subprocess.check_output([\"ping\", \"-c\", \"1\", host])\n",
        "            output_str = output.decode(\"utf-8\")\n",
        "            success = \"1 packets transmitted, 1 received\" in output_str\n",
        "            self._log_result(\"realizar_ping\", success)\n",
        "        except subprocess.CalledProcessError:\n",
        "            self._log_result(\"realizar_ping\", False)\n",
        "            self._send_email(\"Falha no ping\", f\"Não foi possível realizar o ping no host {host}\")\n",
        "\n",
        "    def _log_result(self, method_name, result):\n",
        "        timestamp = datetime.now().strftime(\"%Y-%m-%d %H:%M:%S\")\n",
        "        with open(\"results.csv\", \"a\", newline=\"\") as f:\n",
        "            writer = csv.writer(f)\n",
        "            writer.writerow([timestamp, method_name, result])\n",
        "\n",
        "    def _send_email(self, subject, message):\n",
        "        msg = MIMEMultipart()\n",
        "        msg['From'] = self.email_from\n",
        "        msg['To'] = self.email_to\n",
        "        msg['Subject'] = subject\n",
        "        msg.attach(MIMEText(message, 'plain'))\n",
        "        try:\n",
        "            with smtplib.SMTP('smtp.gmail.com', 587) as smtp:\n",
        "                smtp.starttls()\n",
        "                smtp.login(self.email_from, self.email_password)\n",
        "                smtp.send_message(msg)\n",
        "        except:\n",
        "            print(\"Não foi possível enviar email\")\n"
      ],
      "metadata": {
        "id": "PtVilAZnZK-G",
        "colab": {
          "base_uri": "https://localhost:8080/"
        },
        "outputId": "4b00e319-8d48-449c-b054-1ed8aed32356"
      },
      "execution_count": 12,
      "outputs": [
        {
          "output_type": "stream",
          "name": "stdout",
          "text": [
            "Looking in indexes: https://pypi.org/simple, https://us-python.pkg.dev/colab-wheels/public/simple/\n",
            "Requirement already satisfied: ping3 in /usr/local/lib/python3.8/dist-packages (4.0.4)\n"
          ]
        }
      ]
    },
    {
      "cell_type": "markdown",
      "source": [
        "Rode o programa, verificando o servidor, as portas abertas e vendo o ping com o seguintes IP´s/DOminos\n",
        "dominios_ips = ['186.202.153.153', 'www.google.com.br', 'minhacasa.edu.br']"
      ],
      "metadata": {
        "id": "qcGofAQcbddU"
      }
    },
    {
      "cell_type": "code",
      "execution_count": null,
      "metadata": {
        "id": "gjJ2NUFWYxSH"
      },
      "outputs": [],
      "source": [
        "# Rode aqui seu código"
      ]
    }
  ]
}