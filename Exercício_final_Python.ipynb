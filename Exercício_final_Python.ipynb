{
  "nbformat": 4,
  "nbformat_minor": 0,
  "metadata": {
    "colab": {
      "provenance": [],
      "include_colab_link": true
    },
    "kernelspec": {
      "name": "python3",
      "display_name": "Python 3"
    },
    "language_info": {
      "name": "python"
    }
  },
  "cells": [
    {
      "cell_type": "markdown",
      "metadata": {
        "id": "view-in-github",
        "colab_type": "text"
      },
      "source": [
        "<a href=\"https://colab.research.google.com/github/dlasdowsky/Python/blob/main/Exerc%C3%ADcio_final_Python.ipynb\" target=\"_parent\"><img src=\"https://colab.research.google.com/assets/colab-badge.svg\" alt=\"Open In Colab\"/></a>"
      ]
    },
    {
      "cell_type": "markdown",
      "source": [
        "# Exercício avaliativo de Python Basic\n"
      ],
      "metadata": {
        "id": "Ze14NIEmY-D2"
      }
    },
    {
      "cell_type": "code",
      "source": [
        "!pip install ping3"
      ],
      "metadata": {
        "id": "CvYlJiy3zagD"
      },
      "execution_count": null,
      "outputs": []
    },
    {
      "cell_type": "markdown",
      "source": [
        "1. Crie uma classe enviarMensagens que tenha como variável padrão para inicialização a mensagem (Deve estar no __init__)\n",
        "\n",
        "\n",
        "*   a classe deve ter um método enviar email com parâmetros email e titulo e estes serão usados na biblioteca de envio de email\n",
        "*   Use a biblioteca smtplib\n",
        "\n",
        "\n",
        "\n"
      ],
      "metadata": {
        "id": "j0-c_ZEeZinL"
      }
    },
    {
      "cell_type": "code",
      "source": [
        "#Criar aqui a classe\n",
        "import smtplib\n",
        "from email.mime.text import MIMEText\n",
        "from email.mime.multipart import MIMEMultipart\n",
        "\n",
        "class enviarMensagens:\n",
        "  def __init__ (self, hostSMTP, port, myemail, password = None):\n",
        "    self.hostSMTP = hostSMTP\n",
        "    self.port = port\n",
        "    self.myemail = myemail\n",
        "    self.password = password\n",
        "    self.smtp = smtplib.SMTP(host=hostSMTP, port = port)\n",
        "    self.smtp.starttls()\n",
        "\n",
        "    if password != None and password != \"\":\n",
        "      self.smtp.login(myemail,password)\n",
        "\n",
        "  def enviarEmail(Self, to, subject, body_message):\n",
        "    try:\n",
        "      message = MIMEMultipart(\"alternative\")\n",
        "      message[\"Subject\"] = subject\n",
        "      message[\"From\"]= self.myemail\n",
        "      message.attash(MIMEText(body_message, \"plain\"))\n",
        "      self.smtp.sendmail(message[\"From\"], message[\"To\"],message.as_string())\n",
        "\n",
        "      print(\"Email enviado com sucesso\")\n",
        "    except Exception as ex:\n",
        "      print(\"Error: \", ex)\n",
        "\n",
        "e = enviarMensagens(\"smtp.gmail.com\", \"25\", \"dlasdowsky@gmail.com\")\n",
        "e.enviarEmail(\"danieladdpaula@gail.com\", \"teste titulo\",\"teste msg\")"
      ],
      "metadata": {
        "id": "fZaATqA9aUax",
        "colab": {
          "base_uri": "https://localhost:8080/"
        },
        "outputId": "10d142c1-ec8c-4810-fba5-4762097db4bb"
      },
      "execution_count": 10,
      "outputs": [
        {
          "output_type": "stream",
          "name": "stdout",
          "text": [
            "Error:  name 'self' is not defined\n"
          ]
        }
      ]
    },
    {
      "cell_type": "markdown",
      "source": [
        "2. Crie uma classe com os seguintes métodos:\n",
        " \n",
        "\n",
        "*   verificar_servidor (Use o socket) como parâmetro, o método usa o ip/dominio e a porta, deve salvar em um arquivo csv dia e hora e o resultado ( se conseguiu ou não), por fim, deve enviar email caso tenha dado errado.\n",
        "*   verificar_portas (Use o nmap) como parâmetro, insira o dominio para teste e o resultado deve ser salvo em um arquivo csv para analises\n",
        "*   realizar_ping (use uma lib de ping de sua preferência) como parâmetro entre o ip/domínio e salve o resultado em um arquivo csv, caso tenha erro no ping, envie email informando o erro, o dia e hora do ocorrido.\n",
        "\n",
        "\n",
        "---\n",
        "\n",
        "\n",
        "**ps.: os dados não podem ser apagados e sim inseridos ao final do arquivo**\n",
        "\n",
        "\n",
        "\n"
      ],
      "metadata": {
        "id": "1T3VR1czZMOn"
      }
    },
    {
      "cell_type": "code",
      "source": [
        "# Criar aqui a classe\n",
        "\n",
        "from socket import *\n",
        "from ping3 import ping, verbose_ping\n",
        "import time\n",
        "import pandas as pd\n",
        "\n",
        "class Servidor:\n",
        "  qtd = 0\n",
        "  def __init__(self, nome, ip):\n",
        "    self.nome_servidor = nome\n",
        "    self.ip_servidor = ip\n",
        "    Servidor.qtd +=1\n",
        "  def get_ip(self):\n",
        "    return self.ip_servidor\n",
        "  def realizar_ping(self):\n",
        "    return ping(self.ip_servidor)\n",
        "  @staticmethod\n",
        "  def quantidade_servidores():\n",
        "    return Servidor.qtd\n"
      ],
      "metadata": {
        "id": "PtVilAZnZK-G",
        "colab": {
          "base_uri": "https://localhost:8080/"
        },
        "outputId": "4b00e319-8d48-449c-b054-1ed8aed32356"
      },
      "execution_count": 12,
      "outputs": [
        {
          "output_type": "stream",
          "name": "stdout",
          "text": [
            "Looking in indexes: https://pypi.org/simple, https://us-python.pkg.dev/colab-wheels/public/simple/\n",
            "Requirement already satisfied: ping3 in /usr/local/lib/python3.8/dist-packages (4.0.4)\n"
          ]
        }
      ]
    },
    {
      "cell_type": "markdown",
      "source": [
        "Rode o programa, verificando o servidor, as portas abertas e vendo o ping com o seguintes IP´s/DOminos\n",
        "dominios_ips = ['186.202.153.153', 'www.google.com.br', 'minhacasa.edu.br']"
      ],
      "metadata": {
        "id": "qcGofAQcbddU"
      }
    },
    {
      "cell_type": "code",
      "execution_count": null,
      "metadata": {
        "id": "gjJ2NUFWYxSH"
      },
      "outputs": [],
      "source": [
        "# Rode aqui seu código"
      ]
    }
  ]
}