{
  "nbformat": 4,
  "nbformat_minor": 0,
  "metadata": {
    "colab": {
      "provenance": [],
      "toc_visible": true,
      "include_colab_link": true
    },
    "kernelspec": {
      "name": "python3",
      "display_name": "Python 3"
    },
    "language_info": {
      "name": "python"
    }
  },
  "cells": [
    {
      "cell_type": "markdown",
      "metadata": {
        "id": "view-in-github",
        "colab_type": "text"
      },
      "source": [
        "<a href=\"https://colab.research.google.com/github/dlasdowsky/Python/blob/main/Exerc%C3%ADcio_final_Python.ipynb\" target=\"_parent\"><img src=\"https://colab.research.google.com/assets/colab-badge.svg\" alt=\"Open In Colab\"/></a>"
      ]
    },
    {
      "cell_type": "markdown",
      "source": [
        "# Exercício avaliativo de Python Basic\n"
      ],
      "metadata": {
        "id": "Ze14NIEmY-D2"
      }
    },
    {
      "cell_type": "code",
      "source": [
        "!pip install ping3\n",
        "!sudo apt install nmap\n",
        "!pip install python3-nmap\n",
        "import csv\n",
        "import datetime\n",
        "import smtplib\n",
        "from email.mime.text import MIMEText\n",
        "import socket\n",
        "import ping3\n",
        "import nmap3 \n",
        "import os\n",
        "from datetime import datetime\n",
        "from ping3 import ping\n"
      ],
      "metadata": {
        "id": "CvYlJiy3zagD",
        "outputId": "865c923c-cbb9-4782-958e-daed70d1addd",
        "colab": {
          "base_uri": "https://localhost:8080/"
        }
      },
      "execution_count": null,
      "outputs": [
        {
          "output_type": "stream",
          "name": "stdout",
          "text": [
            "Looking in indexes: https://pypi.org/simple, https://us-python.pkg.dev/colab-wheels/public/simple/\n",
            "Requirement already satisfied: ping3 in /usr/local/lib/python3.8/dist-packages (4.0.4)\n",
            "Reading package lists... Done\n",
            "Building dependency tree       \n",
            "Reading state information... Done\n",
            "nmap is already the newest version (7.80+dfsg1-2build1).\n",
            "The following package was automatically installed and is no longer required:\n",
            "  libnvidia-common-510\n",
            "Use 'sudo apt autoremove' to remove it.\n",
            "0 upgraded, 0 newly installed, 0 to remove and 21 not upgraded.\n",
            "Looking in indexes: https://pypi.org/simple, https://us-python.pkg.dev/colab-wheels/public/simple/\n",
            "Requirement already satisfied: python3-nmap in /usr/local/lib/python3.8/dist-packages (1.6.0)\n",
            "Requirement already satisfied: simplejson in /usr/local/lib/python3.8/dist-packages (from python3-nmap) (3.18.3)\n"
          ]
        }
      ]
    },
    {
      "cell_type": "markdown",
      "source": [
        "1. Crie uma classe enviarMensagens que tenha como variável padrão para inicialização a mensagem (Deve estar no __init__)\n",
        "\n",
        "\n",
        "*   a classe deve ter um método enviar email com parâmetros email e titulo e estes serão usados na biblioteca de envio de email\n",
        "*   Use a biblioteca smtplib\n",
        "\n",
        "\n",
        "\n"
      ],
      "metadata": {
        "id": "j0-c_ZEeZinL"
      }
    },
    {
      "cell_type": "code",
      "source": [
        "import smtplib\n",
        "\n",
        "class EnviarMensagens:\n",
        "    def __init__(self, mensagem):\n",
        "        self.mensagem = mensagem\n",
        "        \n",
        "    def enviar_email(self, destinatario, assunto):\n",
        "        with smtplib.SMTP('smtp.gmail.com', 587) as smtp:\n",
        "            smtp.ehlo()\n",
        "            smtp.starttls()\n",
        "            smtp.ehlo()\n",
        "            #digitar o email do remetente e senha para logn\n",
        "            smtp.login('seu_email@gmail.com', 'sua_senha')\n",
        "            corpo_email = f'Subject: {assunto}\\n\\n{self.mensagem}'\n",
        "            smtp.sendmail('seu_email@gmail.com', destinatario, corpo_email)"
      ],
      "metadata": {
        "id": "fZaATqA9aUax"
      },
      "execution_count": null,
      "outputs": []
    },
    {
      "cell_type": "markdown",
      "source": [
        "2. Crie uma classe com os seguintes métodos:\n",
        " \n",
        "\n",
        "*   verificar_servidor (Use o socket) como parâmetro, o método usa o ip/dominio e a porta, deve salvar em um arquivo csv dia e hora e o resultado ( se conseguiu ou não), por fim, deve enviar email caso tenha dado errado.\n",
        "*   verificar_portas (Use o nmap) como parâmetro, insira o dominio para teste e o resultado deve ser salvo em um arquivo csv para analises\n",
        "*   realizar_ping (use uma lib de ping de sua preferência) como parâmetro entre o ip/domínio e salve o resultado em um arquivo csv, caso tenha erro no ping, envie email informando o erro, o dia e hora do ocorrido.\n",
        "\n",
        "\n",
        "---\n",
        "\n",
        "\n",
        "**ps.: os dados não podem ser apagados e sim inseridos ao final do arquivo**\n",
        "\n",
        "\n",
        "\n"
      ],
      "metadata": {
        "id": "1T3VR1czZMOn"
      }
    },
    {
      "cell_type": "code",
      "source": [
        "\n",
        "\n",
        "class VerificadorServidores:\n",
        "\n",
        "    def __init__(self,ip_dominio):\n",
        "        self.ip_dominio = ip_dominio        \n",
        "\n",
        "    def verificar_portas(self):\n",
        "        resultado = []\n",
        "        mensagem = \"\"\n",
        "        try:\n",
        "            nmap = nmap3.Nmap()\n",
        "            nm = nmap.scan_top_ports(self.ip_dominio)            \n",
        "            i=0\n",
        "            while i< len(nm[self.ip_dominio]['ports']):                            \n",
        "              resultado.append(nm[self.ip_dominio]['ports'][i]['portid'])           \n",
        "              i+=1     \n",
        "            id_porta = 0    \n",
        "            for i in range(len(resultado)):\n",
        "                porta = resultado[i]                \n",
        "                mensagem = self.verificar_servidor(porta)\n",
        "        except Exception as e:\n",
        "            mensagem = 'Erro ao verificar portas'\n",
        "            #self.enviar_email(resultado, \"0\")\n",
        "        finally:\n",
        "            self.salvar_resultado('verificar_portas',  self.ip_dominio, \"0\", resultado)\n",
        "        return mensagem;\n",
        "\n",
        "    def verificar_servidor(self, porta):\n",
        "        mensagem = ''\n",
        "        try:\n",
        "            s = socket.socket(socket.AF_INET, socket.SOCK_STREAM)\n",
        "            s.settimeout(5)\n",
        "            s.connect((self.ip_dominio, int(porta)))\n",
        "            resultado = 'OK'\n",
        "        except Exception as e:\n",
        "            mensagem = 'Erro ao verificar servidor/porta'\n",
        "            #self.enviar_email(resultado, porta)\n",
        "        finally:\n",
        "            s.close()\n",
        "            self.salvar_resultado('verificar_servidor', self.ip_dominio, porta, resultado)\n",
        "        return mensagem;\n",
        "\n",
        "    def realizar_ping(self):\n",
        "        resultado = ''\n",
        "        try:\n",
        "            rtt = ping(self.ip_dominio)            \n",
        "            if rtt is not None:\n",
        "                resultado = f'Ping bem-sucedido: {rtt:.3f} ms'\n",
        "            else:\n",
        "                resultado = 'Erro ao realizar o ping'\n",
        "                self.enviar_email(resultado, self.ip_dominio)\n",
        "        except Exception as e:\n",
        "            resultado = f'Erro ao realizar o ping: {str(e)}'\n",
        "            self.enviar_email(resultado, self.ip_dominio)\n",
        "        finally:\n",
        "            self.salvar_resultado('realizar_ping', self.ip_dominio, '', resultado)\n",
        "\n",
        "    def salvar_resultado(self, metodo, ip_dominio, porta, resultado):\n",
        "        \n",
        "        # obter data e hora atual\n",
        "        data_hora_atual = datetime.datetime.now().strftime(\"%Y-%m-%d %H:%M:%S\")\n",
        "\n",
        "        # verificar se o arquivo CSV já existe\n",
        "        arquivo_existente = True\n",
        "        try:\n",
        "            with open(\"Resultados.csv\", 'r') as f:\n",
        "                pass\n",
        "        except FileNotFoundError:\n",
        "            arquivo_existente = False\n",
        "        # abrir arquivo CSV em modo de escrita, adicionando dados no final do arquivo caso já exista\n",
        "        with open(\"Resultados.csv\", 'a', newline='') as f:\n",
        "            writer = csv.writer(f)\n",
        "            if not arquivo_existente:\n",
        "                writer.writerow([\"data_hora\", \"metodo\", \"ip_dominio\", \"porta\" , \"resultado\"])\n",
        "            writer.writerow([data_hora_atual, metodo, ip_dominio, porta, resultado])\n",
        "    \n"
      ],
      "metadata": {
        "id": "PtVilAZnZK-G"
      },
      "execution_count": null,
      "outputs": []
    },
    {
      "cell_type": "markdown",
      "source": [
        "Rode o programa, verificando o servidor, as portas abertas e vendo o ping com o seguintes IP´s/DOminos\n",
        "dominios_ips = ['186.202.153.153', 'www.google.com.br', 'minhacasa.edu.br']"
      ],
      "metadata": {
        "id": "qcGofAQcbddU"
      }
    },
    {
      "cell_type": "code",
      "execution_count": null,
      "metadata": {
        "id": "gjJ2NUFWYxSH",
        "outputId": "b8603ca8-652e-4289-e616-319751307db5",
        "colab": {
          "base_uri": "https://localhost:8080/",
          "height": 380
        }
      },
      "outputs": [
        {
          "output_type": "stream",
          "name": "stdout",
          "text": [
            "0.0012733936309814453\n"
          ]
        },
        {
          "output_type": "error",
          "ename": "SMTPAuthenticationError",
          "evalue": "ignored",
          "traceback": [
            "\u001b[0;31m---------------------------------------------------------------------------\u001b[0m",
            "\u001b[0;31mSMTPAuthenticationError\u001b[0m                   Traceback (most recent call last)",
            "\u001b[0;32m<ipython-input-182-36b01f399d76>\u001b[0m in \u001b[0;36m<module>\u001b[0;34m\u001b[0m\n\u001b[1;32m      8\u001b[0m \u001b[0;32mif\u001b[0m \u001b[0mmensagem\u001b[0m \u001b[0;34m!=\u001b[0m \u001b[0;34m\"\"\u001b[0m\u001b[0;34m:\u001b[0m\u001b[0;34m\u001b[0m\u001b[0;34m\u001b[0m\u001b[0m\n\u001b[1;32m      9\u001b[0m   \u001b[0menviarMensagens\u001b[0m \u001b[0;34m=\u001b[0m \u001b[0mEnviarMensagens\u001b[0m\u001b[0;34m(\u001b[0m\u001b[0mmensagem\u001b[0m\u001b[0;34m)\u001b[0m\u001b[0;34m\u001b[0m\u001b[0;34m\u001b[0m\u001b[0m\n\u001b[0;32m---> 10\u001b[0;31m   \u001b[0mEnviarMensagens\u001b[0m\u001b[0;34m.\u001b[0m\u001b[0menviar_email\u001b[0m\u001b[0;34m(\u001b[0m\u001b[0mEnviarMensagens\u001b[0m\u001b[0;34m,\u001b[0m \u001b[0mdestinatario\u001b[0m\u001b[0;34m,\u001b[0m \u001b[0massunto\u001b[0m\u001b[0;34m)\u001b[0m\u001b[0;34m\u001b[0m\u001b[0;34m\u001b[0m\u001b[0m\n\u001b[0m",
            "\u001b[0;32m<ipython-input-83-f5d9124720dd>\u001b[0m in \u001b[0;36menviar_email\u001b[0;34m(self, destinatario, assunto)\u001b[0m\n\u001b[1;32m     10\u001b[0m             \u001b[0msmtp\u001b[0m\u001b[0;34m.\u001b[0m\u001b[0mstarttls\u001b[0m\u001b[0;34m(\u001b[0m\u001b[0;34m)\u001b[0m\u001b[0;34m\u001b[0m\u001b[0;34m\u001b[0m\u001b[0m\n\u001b[1;32m     11\u001b[0m             \u001b[0msmtp\u001b[0m\u001b[0;34m.\u001b[0m\u001b[0mehlo\u001b[0m\u001b[0;34m(\u001b[0m\u001b[0;34m)\u001b[0m\u001b[0;34m\u001b[0m\u001b[0;34m\u001b[0m\u001b[0m\n\u001b[0;32m---> 12\u001b[0;31m             \u001b[0msmtp\u001b[0m\u001b[0;34m.\u001b[0m\u001b[0mlogin\u001b[0m\u001b[0;34m(\u001b[0m\u001b[0;34m'seu_email@gmail.com'\u001b[0m\u001b[0;34m,\u001b[0m \u001b[0;34m'sua_senha'\u001b[0m\u001b[0;34m)\u001b[0m\u001b[0;34m\u001b[0m\u001b[0;34m\u001b[0m\u001b[0m\n\u001b[0m\u001b[1;32m     13\u001b[0m             \u001b[0mcorpo_email\u001b[0m \u001b[0;34m=\u001b[0m \u001b[0;34mf'Subject: {assunto}\\n\\n{self.mensagem}'\u001b[0m\u001b[0;34m\u001b[0m\u001b[0;34m\u001b[0m\u001b[0m\n\u001b[1;32m     14\u001b[0m             \u001b[0msmtp\u001b[0m\u001b[0;34m.\u001b[0m\u001b[0msendmail\u001b[0m\u001b[0;34m(\u001b[0m\u001b[0;34m'seu_email@gmail.com'\u001b[0m\u001b[0;34m,\u001b[0m \u001b[0mdestinatario\u001b[0m\u001b[0;34m,\u001b[0m \u001b[0mcorpo_email\u001b[0m\u001b[0;34m)\u001b[0m\u001b[0;34m\u001b[0m\u001b[0;34m\u001b[0m\u001b[0m\n",
            "\u001b[0;32m/usr/lib/python3.8/smtplib.py\u001b[0m in \u001b[0;36mlogin\u001b[0;34m(self, user, password, initial_response_ok)\u001b[0m\n\u001b[1;32m    741\u001b[0m \u001b[0;34m\u001b[0m\u001b[0m\n\u001b[1;32m    742\u001b[0m         \u001b[0;31m# We could not login successfully.  Return result of last attempt.\u001b[0m\u001b[0;34m\u001b[0m\u001b[0;34m\u001b[0m\u001b[0;34m\u001b[0m\u001b[0m\n\u001b[0;32m--> 743\u001b[0;31m         \u001b[0;32mraise\u001b[0m \u001b[0mlast_exception\u001b[0m\u001b[0;34m\u001b[0m\u001b[0;34m\u001b[0m\u001b[0m\n\u001b[0m\u001b[1;32m    744\u001b[0m \u001b[0;34m\u001b[0m\u001b[0m\n\u001b[1;32m    745\u001b[0m     \u001b[0;32mdef\u001b[0m \u001b[0mstarttls\u001b[0m\u001b[0;34m(\u001b[0m\u001b[0mself\u001b[0m\u001b[0;34m,\u001b[0m \u001b[0mkeyfile\u001b[0m\u001b[0;34m=\u001b[0m\u001b[0;32mNone\u001b[0m\u001b[0;34m,\u001b[0m \u001b[0mcertfile\u001b[0m\u001b[0;34m=\u001b[0m\u001b[0;32mNone\u001b[0m\u001b[0;34m,\u001b[0m \u001b[0mcontext\u001b[0m\u001b[0;34m=\u001b[0m\u001b[0;32mNone\u001b[0m\u001b[0;34m)\u001b[0m\u001b[0;34m:\u001b[0m\u001b[0;34m\u001b[0m\u001b[0;34m\u001b[0m\u001b[0m\n",
            "\u001b[0;32m/usr/lib/python3.8/smtplib.py\u001b[0m in \u001b[0;36mlogin\u001b[0;34m(self, user, password, initial_response_ok)\u001b[0m\n\u001b[1;32m    730\u001b[0m             \u001b[0mmethod_name\u001b[0m \u001b[0;34m=\u001b[0m \u001b[0;34m'auth_'\u001b[0m \u001b[0;34m+\u001b[0m \u001b[0mauthmethod\u001b[0m\u001b[0;34m.\u001b[0m\u001b[0mlower\u001b[0m\u001b[0;34m(\u001b[0m\u001b[0;34m)\u001b[0m\u001b[0;34m.\u001b[0m\u001b[0mreplace\u001b[0m\u001b[0;34m(\u001b[0m\u001b[0;34m'-'\u001b[0m\u001b[0;34m,\u001b[0m \u001b[0;34m'_'\u001b[0m\u001b[0;34m)\u001b[0m\u001b[0;34m\u001b[0m\u001b[0;34m\u001b[0m\u001b[0m\n\u001b[1;32m    731\u001b[0m             \u001b[0;32mtry\u001b[0m\u001b[0;34m:\u001b[0m\u001b[0;34m\u001b[0m\u001b[0;34m\u001b[0m\u001b[0m\n\u001b[0;32m--> 732\u001b[0;31m                 (code, resp) = self.auth(\n\u001b[0m\u001b[1;32m    733\u001b[0m                     \u001b[0mauthmethod\u001b[0m\u001b[0;34m,\u001b[0m \u001b[0mgetattr\u001b[0m\u001b[0;34m(\u001b[0m\u001b[0mself\u001b[0m\u001b[0;34m,\u001b[0m \u001b[0mmethod_name\u001b[0m\u001b[0;34m)\u001b[0m\u001b[0;34m,\u001b[0m\u001b[0;34m\u001b[0m\u001b[0;34m\u001b[0m\u001b[0m\n\u001b[1;32m    734\u001b[0m                     initial_response_ok=initial_response_ok)\n",
            "\u001b[0;32m/usr/lib/python3.8/smtplib.py\u001b[0m in \u001b[0;36mauth\u001b[0;34m(self, mechanism, authobject, initial_response_ok)\u001b[0m\n\u001b[1;32m    653\u001b[0m         \u001b[0;32mif\u001b[0m \u001b[0mcode\u001b[0m \u001b[0;32min\u001b[0m \u001b[0;34m(\u001b[0m\u001b[0;36m235\u001b[0m\u001b[0;34m,\u001b[0m \u001b[0;36m503\u001b[0m\u001b[0;34m)\u001b[0m\u001b[0;34m:\u001b[0m\u001b[0;34m\u001b[0m\u001b[0;34m\u001b[0m\u001b[0m\n\u001b[1;32m    654\u001b[0m             \u001b[0;32mreturn\u001b[0m \u001b[0;34m(\u001b[0m\u001b[0mcode\u001b[0m\u001b[0;34m,\u001b[0m \u001b[0mresp\u001b[0m\u001b[0;34m)\u001b[0m\u001b[0;34m\u001b[0m\u001b[0;34m\u001b[0m\u001b[0m\n\u001b[0;32m--> 655\u001b[0;31m         \u001b[0;32mraise\u001b[0m \u001b[0mSMTPAuthenticationError\u001b[0m\u001b[0;34m(\u001b[0m\u001b[0mcode\u001b[0m\u001b[0;34m,\u001b[0m \u001b[0mresp\u001b[0m\u001b[0;34m)\u001b[0m\u001b[0;34m\u001b[0m\u001b[0;34m\u001b[0m\u001b[0m\n\u001b[0m\u001b[1;32m    656\u001b[0m \u001b[0;34m\u001b[0m\u001b[0m\n\u001b[1;32m    657\u001b[0m     \u001b[0;32mdef\u001b[0m \u001b[0mauth_cram_md5\u001b[0m\u001b[0;34m(\u001b[0m\u001b[0mself\u001b[0m\u001b[0;34m,\u001b[0m \u001b[0mchallenge\u001b[0m\u001b[0;34m=\u001b[0m\u001b[0;32mNone\u001b[0m\u001b[0;34m)\u001b[0m\u001b[0;34m:\u001b[0m\u001b[0;34m\u001b[0m\u001b[0;34m\u001b[0m\u001b[0m\n",
            "\u001b[0;31mSMTPAuthenticationError\u001b[0m: (535, b'5.7.8 Username and Password not accepted. Learn more at\\n5.7.8  https://support.google.com/mail/?p=BadCredentials n65-20020a1f2744000000b00409f80e06f0sm388431vkn.39 - gsmtp')"
          ]
        }
      ],
      "source": [
        "# Rode aqui seu código\n",
        " \n",
        "servidor = VerificadorServidores( 'www.google.com.br')\n",
        "destinatario = \"dlasdowsky@gmail.com\"\n",
        "assunto = \"Erro na validação do servidor\"\n",
        "VerificadorServidores.realizar_ping(servidor)\n",
        "mensagem = (VerificadorServidores.verificar_portas(servidor))\n",
        "if mensagem != \"\":\n",
        "  enviarMensagens = EnviarMensagens(mensagem)\n",
        "  EnviarMensagens.enviar_email(EnviarMensagens, destinatario, assunto)\n"
      ]
    }
  ]
}